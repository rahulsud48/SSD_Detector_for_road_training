{
 "cells": [
  {
   "cell_type": "code",
   "execution_count": 1,
   "metadata": {},
   "outputs": [
    {
     "name": "stderr",
     "output_type": "stream",
     "text": [
      "/home/rahul/.conda/envs/opcv/lib/python3.6/site-packages/dask/config.py:168: YAMLLoadWarning: calling yaml.load() without Loader=... is deprecated, as the default Loader is unsafe. Please read https://msg.pyyaml.org/load for full details.\n",
      "  data = yaml.load(f.read()) or {}\n"
     ]
    }
   ],
   "source": [
    "# %matplotlib notebook\n",
    "# %load_ext autoreload\n",
    "# %autoreload 2\n",
    "\n",
    "import os\n",
    "import random\n",
    "\n",
    "from operator import itemgetter\n",
    "\n",
    "import cv2\n",
    "import numpy as np\n",
    "import torch\n",
    "import torch.optim as optim\n",
    "import matplotlib.pyplot as plt\n",
    "\n",
    "from albumentations import (\n",
    "    CLAHE,\n",
    "    Blur,\n",
    "    OneOf,\n",
    "    Compose,\n",
    "    RGBShift,\n",
    "    GaussNoise,\n",
    "    RandomGamma,\n",
    "    RandomContrast,\n",
    "    RandomBrightness,\n",
    ")\n",
    "\n",
    "from torch.utils.data import DataLoader\n",
    "from torch.optim.lr_scheduler import MultiStepLR\n",
    "from albumentations.pytorch.transforms import ToTensorV2\n",
    "from albumentations.augmentations.transforms import HueSaturationValue\n",
    "from albumentations.augmentations.transforms import Normalize\n",
    "\n",
    "from trainer import Trainer, hooks, configuration\n",
    "from detector import Detector\n",
    "from trainer.utils import patch_configs\n",
    "from trainer.utils import setup_system\n",
    "from detection_loss import DetectionLoss\n",
    "from trainer.encoder import (\n",
    "    DataEncoder,\n",
    "    decode_boxes,\n",
    "    encode_boxes,\n",
    "    generate_anchors,\n",
    "    generate_anchor_grid,\n",
    ")\n",
    "from trainer.metrics import APEstimator\n",
    "from trainer.datasets import ListDataset\n",
    "# from trainer.data_set_downloader import DataSetDownloader \n",
    "from trainer.matplotlib_visualizer import MatplotlibVisualizer"
   ]
  },
  {
   "cell_type": "code",
   "execution_count": null,
   "metadata": {},
   "outputs": [],
   "source": [
    "\n"
   ]
  },
  {
   "cell_type": "code",
   "execution_count": 2,
   "metadata": {},
   "outputs": [],
   "source": []
  },
  {
   "cell_type": "code",
   "execution_count": 3,
   "metadata": {},
   "outputs": [],
   "source": [
    "dataloader_config, trainer_config = patch_configs(epoch_num_to_set=10, batch_size_to_set=1)\n",
    "dataset_config = configuration.DatasetConfig(\n",
    "    root_dir=\"../../../Datasets/Road_Scene_Object_Detection\",\n",
    "    train_transforms=[\n",
    "        RandomBrightness(p=0.5),\n",
    "        RandomContrast(p=0.5),\n",
    "        OneOf([\n",
    "            RandomGamma(),\n",
    "            HueSaturationValue(hue_shift_limit=20, sat_shift_limit=50, val_shift_limit=50),\n",
    "            RGBShift()\n",
    "        ],\n",
    "            p=1),\n",
    "        OneOf([Blur(always_apply=True), GaussNoise(always_apply=True)], p=1),\n",
    "        CLAHE(),\n",
    "        Normalize(),\n",
    "        ToTensorV2()\n",
    "    ]\n",
    ")"
   ]
  },
  {
   "cell_type": "code",
   "execution_count": 4,
   "metadata": {},
   "outputs": [],
   "source": [
    "\n",
    "dataset_train = ListDataset(\n",
    "    root_dir=dataset_config.root_dir,\n",
    "    data_dir = 'export',\n",
    "    list_file='annots_converted_train.txt',\n",
    "\n",
    "    classes=[\n",
    "        \"__background__\",\n",
    "        \"biker\",\n",
    "        \"car\",\n",
    "        \"pedestrian\",\n",
    "        \"trafficLight\",\n",
    "        \"trafficLight-Green\",\n",
    "        \"trafficLight-GreenLeft\",\n",
    "        \"trafficLight-Red\",\n",
    "        \"trafficLight-RedLeft\",\n",
    "        \"trafficLight-Yellow\",\n",
    "        \"trafficLight-YellowLeft\",\n",
    "        \"truck\"\n",
    "    ],\n",
    "    mode='train',\n",
    "    transform=Compose(dataset_config.train_transforms),\n",
    "    input_size=300\n",
    ")\n",
    "\n",
    "loader_train = DataLoader(\n",
    "    dataset=dataset_train,\n",
    "    batch_size=dataloader_config.batch_size,\n",
    "    shuffle=True,\n",
    "#     collate_fn=dataset_train.collate_fn,\n",
    "    num_workers=dataloader_config.num_workers,\n",
    "    pin_memory=True\n",
    ")"
   ]
  },
  {
   "cell_type": "code",
   "execution_count": 5,
   "metadata": {},
   "outputs": [],
   "source": [
    "iterator = iter(loader_train)\n",
    "one_batch = next(iterator)"
   ]
  },
  {
   "cell_type": "code",
   "execution_count": 6,
   "metadata": {},
   "outputs": [
    {
     "data": {
      "text/plain": [
       "3"
      ]
     },
     "execution_count": 6,
     "metadata": {},
     "output_type": "execute_result"
    }
   ],
   "source": [
    "len(one_batch)"
   ]
  },
  {
   "cell_type": "code",
   "execution_count": 7,
   "metadata": {},
   "outputs": [],
   "source": [
    "one_batch = next(iterator)"
   ]
  },
  {
   "cell_type": "code",
   "execution_count": 8,
   "metadata": {},
   "outputs": [
    {
     "data": {
      "text/plain": [
       "torch.Size([1, 17451, 4])"
      ]
     },
     "execution_count": 8,
     "metadata": {},
     "output_type": "execute_result"
    }
   ],
   "source": [
    "one_batch[1].shape"
   ]
  },
  {
   "cell_type": "code",
   "execution_count": 9,
   "metadata": {},
   "outputs": [
    {
     "data": {
      "text/plain": [
       "torch.Size([1, 17451])"
      ]
     },
     "execution_count": 9,
     "metadata": {},
     "output_type": "execute_result"
    }
   ],
   "source": [
    "one_batch[2].shape"
   ]
  },
  {
   "cell_type": "code",
   "execution_count": 10,
   "metadata": {},
   "outputs": [
    {
     "data": {
      "text/plain": [
       "tensor([[0, 0, 0,  ..., 0, 0, 0]])"
      ]
     },
     "execution_count": 10,
     "metadata": {},
     "output_type": "execute_result"
    }
   ],
   "source": [
    "one_batch[2]"
   ]
  },
  {
   "cell_type": "code",
   "execution_count": null,
   "metadata": {},
   "outputs": [],
   "source": []
  }
 ],
 "metadata": {
  "kernelspec": {
   "display_name": "Python 3",
   "language": "python",
   "name": "python3"
  },
  "language_info": {
   "codemirror_mode": {
    "name": "ipython",
    "version": 3
   },
   "file_extension": ".py",
   "mimetype": "text/x-python",
   "name": "python",
   "nbconvert_exporter": "python",
   "pygments_lexer": "ipython3",
   "version": "3.6.8"
  }
 },
 "nbformat": 4,
 "nbformat_minor": 2
}
