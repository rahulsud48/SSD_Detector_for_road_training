{
 "cells": [
  {
   "cell_type": "code",
   "execution_count": 1,
   "metadata": {},
   "outputs": [],
   "source": [
    "## First we will see the example"
   ]
  },
  {
   "cell_type": "code",
   "execution_count": 1,
   "metadata": {},
   "outputs": [],
   "source": [
    "import torch\n",
    "import torch.nn as nn\n",
    "\n",
    "# get device\n",
    "device = 'cpu' #if not torch.cuda.is_available() else 'cuda'\n",
    "\n",
    "# a simple NN\n",
    "class NN(nn.Module):\n",
    "    def __init__(self):\n",
    "        super(NN, self).__init__()\n",
    "        self.layer1 = nn.Linear(in_features=4, \n",
    "                                out_features=2)\n",
    "    def forward(self,x):\n",
    "        x = self.layer1(x)\n",
    "        return x\n",
    "    \n",
    "\n",
    "# Transform the model to device\n",
    "net = NN().to(device)"
   ]
  },
  {
   "cell_type": "code",
   "execution_count": 3,
   "metadata": {},
   "outputs": [],
   "source": [
    "# freeze the weights and discard the gradients\n",
    "for parm in net.parameters():\n",
    "    parm.requires_grad=False\n"
   ]
  },
  {
   "cell_type": "code",
   "execution_count": 4,
   "metadata": {},
   "outputs": [
    {
     "name": "stdout",
     "output_type": "stream",
     "text": [
      "graph(%self.1 : __torch__.NN,\n",
      "      %input : Float(1:4, 4:1, requires_grad=0, device=cpu)):\n",
      "  %14 : __torch__.torch.nn.modules.linear.Linear = prim::GetAttr[name=\"layer1\"](%self.1)\n",
      "  %16 : Tensor = prim::CallMethod[name=\"forward\"](%14, %input)\n",
      "  return (%16)\n",
      "\n"
     ]
    }
   ],
   "source": [
    "# create a random input, a input is mandatory for IR.\n",
    "x = torch.randn(1,4, device=device)\n",
    "\n",
    "# Use torch script to get IR\n",
    "trace_nn = torch.jit.trace(net, x)\n",
    "\n",
    "print(trace_nn.graph) # To visualize the IR"
   ]
  },
  {
   "cell_type": "code",
   "execution_count": 5,
   "metadata": {},
   "outputs": [
    {
     "data": {
      "text/plain": [
       "tensor([[ 0.6583, -0.5894]])"
      ]
     },
     "execution_count": 5,
     "metadata": {},
     "output_type": "execute_result"
    }
   ],
   "source": [
    "x = torch.randn(1,4, device=device)\n",
    "trace_nn(x)"
   ]
  },
  {
   "cell_type": "code",
   "execution_count": 6,
   "metadata": {},
   "outputs": [
    {
     "data": {
      "text/plain": [
       "tensor([[ 0.0036, -1.0990]])"
      ]
     },
     "execution_count": 6,
     "metadata": {},
     "output_type": "execute_result"
    }
   ],
   "source": [
    "x = torch.randn(1,4, device=device)\n",
    "trace_nn(x)"
   ]
  },
  {
   "cell_type": "markdown",
   "metadata": {},
   "source": [
    "### Importing my trained model"
   ]
  },
  {
   "cell_type": "code",
   "execution_count": 2,
   "metadata": {},
   "outputs": [],
   "source": [
    "from detector import Detector"
   ]
  },
  {
   "cell_type": "code",
   "execution_count": 3,
   "metadata": {},
   "outputs": [],
   "source": [
    "def load_model(model_path, num_classes, device='cpu'):\n",
    "    model = Detector(num_classes)\n",
    "    model.load_state_dict(\n",
    "                    torch.load(model_path)\n",
    "                )\n",
    "    model = model.eval()\n",
    "    model.to(device)\n",
    "    return model"
   ]
  },
  {
   "cell_type": "code",
   "execution_count": 4,
   "metadata": {},
   "outputs": [],
   "source": [
    "model_path = \"/media/rahul/a079ceb2-fd12-43c5-b844-a832f31d5a39/Projects/autonomous_cars/Object_Detector_for_road/SSD_Detector_for_road_training/checkpoints/Detector_best.pth\"\n",
    "num_classes = 12\n",
    "device = 'cpu'"
   ]
  },
  {
   "cell_type": "code",
   "execution_count": 5,
   "metadata": {},
   "outputs": [],
   "source": [
    "model = load_model(model_path, num_classes, device)"
   ]
  },
  {
   "cell_type": "code",
   "execution_count": 6,
   "metadata": {},
   "outputs": [
    {
     "data": {
      "text/plain": [
       "Detector(\n",
       "  (fpn): FPN(\n",
       "    (feature_extractor): ResNet(\n",
       "      (conv1): Conv2d(3, 64, kernel_size=(7, 7), stride=(2, 2), padding=(3, 3), bias=False)\n",
       "      (bn1): BatchNorm2d(64, eps=1e-05, momentum=0.1, affine=True, track_running_stats=True)\n",
       "      (relu): ReLU(inplace=True)\n",
       "      (maxpool): MaxPool2d(kernel_size=3, stride=2, padding=1, dilation=1, ceil_mode=False)\n",
       "      (layer1): Sequential(\n",
       "        (0): BasicBlock(\n",
       "          (conv1): Conv2d(64, 64, kernel_size=(3, 3), stride=(1, 1), padding=(1, 1), bias=False)\n",
       "          (bn1): BatchNorm2d(64, eps=1e-05, momentum=0.1, affine=True, track_running_stats=True)\n",
       "          (relu): ReLU(inplace=True)\n",
       "          (conv2): Conv2d(64, 64, kernel_size=(3, 3), stride=(1, 1), padding=(1, 1), bias=False)\n",
       "          (bn2): BatchNorm2d(64, eps=1e-05, momentum=0.1, affine=True, track_running_stats=True)\n",
       "        )\n",
       "        (1): BasicBlock(\n",
       "          (conv1): Conv2d(64, 64, kernel_size=(3, 3), stride=(1, 1), padding=(1, 1), bias=False)\n",
       "          (bn1): BatchNorm2d(64, eps=1e-05, momentum=0.1, affine=True, track_running_stats=True)\n",
       "          (relu): ReLU(inplace=True)\n",
       "          (conv2): Conv2d(64, 64, kernel_size=(3, 3), stride=(1, 1), padding=(1, 1), bias=False)\n",
       "          (bn2): BatchNorm2d(64, eps=1e-05, momentum=0.1, affine=True, track_running_stats=True)\n",
       "        )\n",
       "      )\n",
       "      (layer2): Sequential(\n",
       "        (0): BasicBlock(\n",
       "          (conv1): Conv2d(64, 128, kernel_size=(3, 3), stride=(2, 2), padding=(1, 1), bias=False)\n",
       "          (bn1): BatchNorm2d(128, eps=1e-05, momentum=0.1, affine=True, track_running_stats=True)\n",
       "          (relu): ReLU(inplace=True)\n",
       "          (conv2): Conv2d(128, 128, kernel_size=(3, 3), stride=(1, 1), padding=(1, 1), bias=False)\n",
       "          (bn2): BatchNorm2d(128, eps=1e-05, momentum=0.1, affine=True, track_running_stats=True)\n",
       "          (downsample): Sequential(\n",
       "            (0): Conv2d(64, 128, kernel_size=(1, 1), stride=(2, 2), bias=False)\n",
       "            (1): BatchNorm2d(128, eps=1e-05, momentum=0.1, affine=True, track_running_stats=True)\n",
       "          )\n",
       "        )\n",
       "        (1): BasicBlock(\n",
       "          (conv1): Conv2d(128, 128, kernel_size=(3, 3), stride=(1, 1), padding=(1, 1), bias=False)\n",
       "          (bn1): BatchNorm2d(128, eps=1e-05, momentum=0.1, affine=True, track_running_stats=True)\n",
       "          (relu): ReLU(inplace=True)\n",
       "          (conv2): Conv2d(128, 128, kernel_size=(3, 3), stride=(1, 1), padding=(1, 1), bias=False)\n",
       "          (bn2): BatchNorm2d(128, eps=1e-05, momentum=0.1, affine=True, track_running_stats=True)\n",
       "        )\n",
       "      )\n",
       "      (layer3): Sequential(\n",
       "        (0): BasicBlock(\n",
       "          (conv1): Conv2d(128, 256, kernel_size=(3, 3), stride=(2, 2), padding=(1, 1), bias=False)\n",
       "          (bn1): BatchNorm2d(256, eps=1e-05, momentum=0.1, affine=True, track_running_stats=True)\n",
       "          (relu): ReLU(inplace=True)\n",
       "          (conv2): Conv2d(256, 256, kernel_size=(3, 3), stride=(1, 1), padding=(1, 1), bias=False)\n",
       "          (bn2): BatchNorm2d(256, eps=1e-05, momentum=0.1, affine=True, track_running_stats=True)\n",
       "          (downsample): Sequential(\n",
       "            (0): Conv2d(128, 256, kernel_size=(1, 1), stride=(2, 2), bias=False)\n",
       "            (1): BatchNorm2d(256, eps=1e-05, momentum=0.1, affine=True, track_running_stats=True)\n",
       "          )\n",
       "        )\n",
       "        (1): BasicBlock(\n",
       "          (conv1): Conv2d(256, 256, kernel_size=(3, 3), stride=(1, 1), padding=(1, 1), bias=False)\n",
       "          (bn1): BatchNorm2d(256, eps=1e-05, momentum=0.1, affine=True, track_running_stats=True)\n",
       "          (relu): ReLU(inplace=True)\n",
       "          (conv2): Conv2d(256, 256, kernel_size=(3, 3), stride=(1, 1), padding=(1, 1), bias=False)\n",
       "          (bn2): BatchNorm2d(256, eps=1e-05, momentum=0.1, affine=True, track_running_stats=True)\n",
       "        )\n",
       "      )\n",
       "      (layer4): Sequential(\n",
       "        (0): BasicBlock(\n",
       "          (conv1): Conv2d(256, 512, kernel_size=(3, 3), stride=(2, 2), padding=(1, 1), bias=False)\n",
       "          (bn1): BatchNorm2d(512, eps=1e-05, momentum=0.1, affine=True, track_running_stats=True)\n",
       "          (relu): ReLU(inplace=True)\n",
       "          (conv2): Conv2d(512, 512, kernel_size=(3, 3), stride=(1, 1), padding=(1, 1), bias=False)\n",
       "          (bn2): BatchNorm2d(512, eps=1e-05, momentum=0.1, affine=True, track_running_stats=True)\n",
       "          (downsample): Sequential(\n",
       "            (0): Conv2d(256, 512, kernel_size=(1, 1), stride=(2, 2), bias=False)\n",
       "            (1): BatchNorm2d(512, eps=1e-05, momentum=0.1, affine=True, track_running_stats=True)\n",
       "          )\n",
       "        )\n",
       "        (1): BasicBlock(\n",
       "          (conv1): Conv2d(512, 512, kernel_size=(3, 3), stride=(1, 1), padding=(1, 1), bias=False)\n",
       "          (bn1): BatchNorm2d(512, eps=1e-05, momentum=0.1, affine=True, track_running_stats=True)\n",
       "          (relu): ReLU(inplace=True)\n",
       "          (conv2): Conv2d(512, 512, kernel_size=(3, 3), stride=(1, 1), padding=(1, 1), bias=False)\n",
       "          (bn2): BatchNorm2d(512, eps=1e-05, momentum=0.1, affine=True, track_running_stats=True)\n",
       "        )\n",
       "      )\n",
       "      (avgpool): AdaptiveAvgPool2d(output_size=(1, 1))\n",
       "      (fc): Linear(in_features=512, out_features=1000, bias=True)\n",
       "    )\n",
       "    (conv6): Conv2d(512, 64, kernel_size=(3, 3), stride=(2, 2), padding=(1, 1))\n",
       "    (conv7): Conv2d(64, 64, kernel_size=(3, 3), stride=(2, 2), padding=(1, 1))\n",
       "    (latlayer1): Conv2d(512, 64, kernel_size=(1, 1), stride=(1, 1))\n",
       "    (latlayer2): Conv2d(256, 64, kernel_size=(1, 1), stride=(1, 1))\n",
       "    (latlayer3): Conv2d(128, 64, kernel_size=(1, 1), stride=(1, 1))\n",
       "    (toplayer1): Conv2d(64, 64, kernel_size=(3, 3), stride=(1, 1), padding=(1, 1))\n",
       "    (toplayer2): Conv2d(64, 64, kernel_size=(3, 3), stride=(1, 1), padding=(1, 1))\n",
       "  )\n",
       "  (loc_head): Sequential(\n",
       "    (0): Conv2d(64, 64, kernel_size=(3, 3), stride=(1, 1), padding=(1, 1))\n",
       "    (1): ReLU(inplace=True)\n",
       "    (2): Conv2d(64, 64, kernel_size=(3, 3), stride=(1, 1), padding=(1, 1))\n",
       "    (3): ReLU(inplace=True)\n",
       "    (4): Conv2d(64, 64, kernel_size=(3, 3), stride=(1, 1), padding=(1, 1))\n",
       "    (5): ReLU(inplace=True)\n",
       "    (6): Conv2d(64, 64, kernel_size=(3, 3), stride=(1, 1), padding=(1, 1))\n",
       "    (7): ReLU(inplace=True)\n",
       "    (8): Conv2d(64, 36, kernel_size=(3, 3), stride=(1, 1), padding=(1, 1))\n",
       "  )\n",
       "  (cls_head): Sequential(\n",
       "    (0): Conv2d(64, 64, kernel_size=(3, 3), stride=(1, 1), padding=(1, 1))\n",
       "    (1): ReLU(inplace=True)\n",
       "    (2): Conv2d(64, 64, kernel_size=(3, 3), stride=(1, 1), padding=(1, 1))\n",
       "    (3): ReLU(inplace=True)\n",
       "    (4): Conv2d(64, 64, kernel_size=(3, 3), stride=(1, 1), padding=(1, 1))\n",
       "    (5): ReLU(inplace=True)\n",
       "    (6): Conv2d(64, 64, kernel_size=(3, 3), stride=(1, 1), padding=(1, 1))\n",
       "    (7): ReLU(inplace=True)\n",
       "    (8): Conv2d(64, 108, kernel_size=(3, 3), stride=(1, 1), padding=(1, 1))\n",
       "  )\n",
       ")"
      ]
     },
     "execution_count": 6,
     "metadata": {},
     "output_type": "execute_result"
    }
   ],
   "source": [
    "model"
   ]
  },
  {
   "cell_type": "code",
   "execution_count": 10,
   "metadata": {},
   "outputs": [],
   "source": [
    "# freeze the weights and discard the gradients\n",
    "for parm in model.parameters():\n",
    "    parm.requires_grad=False"
   ]
  },
  {
   "cell_type": "code",
   "execution_count": 11,
   "metadata": {},
   "outputs": [],
   "source": [
    "x = torch.randn(1,3,300,300, device=device)"
   ]
  },
  {
   "cell_type": "code",
   "execution_count": 12,
   "metadata": {},
   "outputs": [
    {
     "data": {
      "text/plain": [
       "torch.Size([1, 3, 300, 300])"
      ]
     },
     "execution_count": 12,
     "metadata": {},
     "output_type": "execute_result"
    }
   ],
   "source": [
    "x.shape"
   ]
  },
  {
   "cell_type": "code",
   "execution_count": 13,
   "metadata": {},
   "outputs": [],
   "source": [
    "loc_preds, cls_preds = model(x)"
   ]
  },
  {
   "cell_type": "code",
   "execution_count": 14,
   "metadata": {},
   "outputs": [
    {
     "name": "stdout",
     "output_type": "stream",
     "text": [
      "graph(%self.1 : __torch__.detector.___torch_mangle_133.Detector,\n",
      "      %input.1 : Float(1:270000, 3:90000, 300:300, 300:1, requires_grad=0, device=cpu)):\n",
      "  %2644 : __torch__.torch.nn.modules.container.___torch_mangle_132.Sequential = prim::GetAttr[name=\"cls_head\"](%self.1)\n",
      "  %2624 : __torch__.torch.nn.modules.container.___torch_mangle_122.Sequential = prim::GetAttr[name=\"loc_head\"](%self.1)\n",
      "  %2604 : __torch__.fpn.___torch_mangle_112.FPN = prim::GetAttr[name=\"fpn\"](%self.1)\n",
      "  %2995 : (Tensor, Tensor, Tensor, Tensor, Tensor, Tensor, Tensor, Tensor) = prim::CallMethod[name=\"forward\"](%2604, %input.1)\n",
      "  %2987 : Float(1:92416, 64:1444, 38:38, 38:1, requires_grad=0, device=cpu), %2988 : Float(1:23104, 64:361, 19:19, 19:1, requires_grad=0, device=cpu), %2989 : Float(1:23104, 64:361, 19:19, 19:1, requires_grad=0, device=cpu), %2990 : Float(1:6400, 64:100, 10:10, 10:1, requires_grad=0, device=cpu), %2991 : Float(1:6400, 64:100, 10:10, 10:1, requires_grad=0, device=cpu), %2992 : Float(1:1600, 64:25, 5:5, 5:1, requires_grad=0, device=cpu), %2993 : Float(1:1600, 64:25, 5:5, 5:1, requires_grad=0, device=cpu), %2994 : Float(1:576, 64:9, 3:3, 3:1, requires_grad=0, device=cpu) = prim::TupleUnpack(%2995)\n",
      "  %2996 : Tensor = prim::CallMethod[name=\"forward\"](%2624, %2987)\n",
      "  %2997 : Tensor = prim::CallMethod[name=\"forward\"](%2644, %2987)\n",
      "  %1270 : int = prim::Constant[value=0]() # /media/rahul/a079ceb2-fd12-43c5-b844-a832f31d5a39/Projects/autonomous_cars/Object_Detector_for_road/SSD_Detector_for_road_training/SSD_Trainer/detector.py:24:0\n",
      "  %1271 : int = prim::Constant[value=2]() # /media/rahul/a079ceb2-fd12-43c5-b844-a832f31d5a39/Projects/autonomous_cars/Object_Detector_for_road/SSD_Detector_for_road_training/SSD_Trainer/detector.py:24:0\n",
      "  %1272 : int = prim::Constant[value=3]() # /media/rahul/a079ceb2-fd12-43c5-b844-a832f31d5a39/Projects/autonomous_cars/Object_Detector_for_road/SSD_Detector_for_road_training/SSD_Trainer/detector.py:24:0\n",
      "  %1273 : int = prim::Constant[value=1]() # /media/rahul/a079ceb2-fd12-43c5-b844-a832f31d5a39/Projects/autonomous_cars/Object_Detector_for_road/SSD_Detector_for_road_training/SSD_Trainer/detector.py:24:0\n",
      "  %1274 : int[] = prim::ListConstruct(%1270, %1271, %1272, %1273)\n",
      "  %1275 : Float(1:51984, 38:38, 38:1, 36:1444, requires_grad=0, device=cpu) = aten::permute(%2996, %1274) # /media/rahul/a079ceb2-fd12-43c5-b844-a832f31d5a39/Projects/autonomous_cars/Object_Detector_for_road/SSD_Detector_for_road_training/SSD_Trainer/detector.py:24:0\n",
      "  %1276 : int = prim::Constant[value=0]() # /media/rahul/a079ceb2-fd12-43c5-b844-a832f31d5a39/Projects/autonomous_cars/Object_Detector_for_road/SSD_Detector_for_road_training/SSD_Trainer/detector.py:24:0\n",
      "  %1277 : Float(1:51984, 38:1368, 38:36, 36:1, requires_grad=0, device=cpu) = aten::contiguous(%1275, %1276) # /media/rahul/a079ceb2-fd12-43c5-b844-a832f31d5a39/Projects/autonomous_cars/Object_Detector_for_road/SSD_Detector_for_road_training/SSD_Trainer/detector.py:24:0\n",
      "  %1278 : int = prim::Constant[value=0]() # /media/rahul/a079ceb2-fd12-43c5-b844-a832f31d5a39/Projects/autonomous_cars/Object_Detector_for_road/SSD_Detector_for_road_training/SSD_Trainer/detector.py:25:0\n",
      "  %1279 : int = aten::size(%input.1, %1278) # /media/rahul/a079ceb2-fd12-43c5-b844-a832f31d5a39/Projects/autonomous_cars/Object_Detector_for_road/SSD_Detector_for_road_training/SSD_Trainer/detector.py:25:0\n",
      "  %1280 : Long(device=cpu) = prim::NumToTensor(%1279)\n",
      "  %1281 : int = aten::Int(%1280)\n",
      "  %1282 : int = prim::Constant[value=-1]() # /media/rahul/a079ceb2-fd12-43c5-b844-a832f31d5a39/Projects/autonomous_cars/Object_Detector_for_road/SSD_Detector_for_road_training/SSD_Trainer/detector.py:25:0\n",
      "  %1283 : int = prim::Constant[value=4]() # /media/rahul/a079ceb2-fd12-43c5-b844-a832f31d5a39/Projects/autonomous_cars/Object_Detector_for_road/SSD_Detector_for_road_training/SSD_Trainer/detector.py:25:0\n",
      "  %1284 : int[] = prim::ListConstruct(%1281, %1282, %1283)\n",
      "  %1285 : Float(1:51984, 12996:4, 4:1, requires_grad=0, device=cpu) = aten::view(%1277, %1284) # /media/rahul/a079ceb2-fd12-43c5-b844-a832f31d5a39/Projects/autonomous_cars/Object_Detector_for_road/SSD_Detector_for_road_training/SSD_Trainer/detector.py:25:0\n",
      "  %1286 : int = prim::Constant[value=0]() # /media/rahul/a079ceb2-fd12-43c5-b844-a832f31d5a39/Projects/autonomous_cars/Object_Detector_for_road/SSD_Detector_for_road_training/SSD_Trainer/detector.py:27:0\n",
      "  %1287 : int = prim::Constant[value=2]() # /media/rahul/a079ceb2-fd12-43c5-b844-a832f31d5a39/Projects/autonomous_cars/Object_Detector_for_road/SSD_Detector_for_road_training/SSD_Trainer/detector.py:27:0\n",
      "  %1288 : int = prim::Constant[value=3]() # /media/rahul/a079ceb2-fd12-43c5-b844-a832f31d5a39/Projects/autonomous_cars/Object_Detector_for_road/SSD_Detector_for_road_training/SSD_Trainer/detector.py:27:0\n",
      "  %1289 : int = prim::Constant[value=1]() # /media/rahul/a079ceb2-fd12-43c5-b844-a832f31d5a39/Projects/autonomous_cars/Object_Detector_for_road/SSD_Detector_for_road_training/SSD_Trainer/detector.py:27:0\n",
      "  %1290 : int[] = prim::ListConstruct(%1286, %1287, %1288, %1289)\n",
      "  %1291 : Float(1:155952, 38:38, 38:1, 108:1444, requires_grad=0, device=cpu) = aten::permute(%2997, %1290) # /media/rahul/a079ceb2-fd12-43c5-b844-a832f31d5a39/Projects/autonomous_cars/Object_Detector_for_road/SSD_Detector_for_road_training/SSD_Trainer/detector.py:27:0\n",
      "  %1292 : int = prim::Constant[value=0]() # /media/rahul/a079ceb2-fd12-43c5-b844-a832f31d5a39/Projects/autonomous_cars/Object_Detector_for_road/SSD_Detector_for_road_training/SSD_Trainer/detector.py:27:0\n",
      "  %1293 : Float(1:155952, 38:4104, 38:108, 108:1, requires_grad=0, device=cpu) = aten::contiguous(%1291, %1292) # /media/rahul/a079ceb2-fd12-43c5-b844-a832f31d5a39/Projects/autonomous_cars/Object_Detector_for_road/SSD_Detector_for_road_training/SSD_Trainer/detector.py:27:0\n",
      "  %1294 : int = prim::Constant[value=0]() # /media/rahul/a079ceb2-fd12-43c5-b844-a832f31d5a39/Projects/autonomous_cars/Object_Detector_for_road/SSD_Detector_for_road_training/SSD_Trainer/detector.py:28:0\n",
      "  %1295 : int = aten::size(%input.1, %1294) # /media/rahul/a079ceb2-fd12-43c5-b844-a832f31d5a39/Projects/autonomous_cars/Object_Detector_for_road/SSD_Detector_for_road_training/SSD_Trainer/detector.py:28:0\n",
      "  %1296 : Long(device=cpu) = prim::NumToTensor(%1295)\n",
      "  %1297 : int = aten::Int(%1296)\n",
      "  %1298 : int = prim::Constant[value=-1]() # /media/rahul/a079ceb2-fd12-43c5-b844-a832f31d5a39/Projects/autonomous_cars/Object_Detector_for_road/SSD_Detector_for_road_training/SSD_Trainer/detector.py:28:0\n",
      "  %1299 : int = prim::Constant[value=12]() # /media/rahul/a079ceb2-fd12-43c5-b844-a832f31d5a39/Projects/autonomous_cars/Object_Detector_for_road/SSD_Detector_for_road_training/SSD_Trainer/detector.py:28:0\n",
      "  %1300 : int[] = prim::ListConstruct(%1297, %1298, %1299)\n",
      "  %1301 : Float(1:155952, 12996:12, 12:1, requires_grad=0, device=cpu) = aten::view(%1293, %1300) # /media/rahul/a079ceb2-fd12-43c5-b844-a832f31d5a39/Projects/autonomous_cars/Object_Detector_for_road/SSD_Detector_for_road_training/SSD_Trainer/detector.py:28:0\n",
      "  %2998 : Tensor = prim::CallMethod[name=\"forward1\"](%2624, %2988)\n",
      "  %2999 : Tensor = prim::CallMethod[name=\"forward1\"](%2644, %2989)\n",
      "  %1500 : int = prim::Constant[value=0]() # /media/rahul/a079ceb2-fd12-43c5-b844-a832f31d5a39/Projects/autonomous_cars/Object_Detector_for_road/SSD_Detector_for_road_training/SSD_Trainer/detector.py:24:0\n",
      "  %1501 : int = prim::Constant[value=2]() # /media/rahul/a079ceb2-fd12-43c5-b844-a832f31d5a39/Projects/autonomous_cars/Object_Detector_for_road/SSD_Detector_for_road_training/SSD_Trainer/detector.py:24:0\n",
      "  %1502 : int = prim::Constant[value=3]() # /media/rahul/a079ceb2-fd12-43c5-b844-a832f31d5a39/Projects/autonomous_cars/Object_Detector_for_road/SSD_Detector_for_road_training/SSD_Trainer/detector.py:24:0\n",
      "  %1503 : int = prim::Constant[value=1]() # /media/rahul/a079ceb2-fd12-43c5-b844-a832f31d5a39/Projects/autonomous_cars/Object_Detector_for_road/SSD_Detector_for_road_training/SSD_Trainer/detector.py:24:0\n",
      "  %1504 : int[] = prim::ListConstruct(%1500, %1501, %1502, %1503)\n",
      "  %1505 : Float(1:12996, 19:19, 19:1, 36:361, requires_grad=0, device=cpu) = aten::permute(%2998, %1504) # /media/rahul/a079ceb2-fd12-43c5-b844-a832f31d5a39/Projects/autonomous_cars/Object_Detector_for_road/SSD_Detector_for_road_training/SSD_Trainer/detector.py:24:0\n",
      "  %1506 : int = prim::Constant[value=0]() # /media/rahul/a079ceb2-fd12-43c5-b844-a832f31d5a39/Projects/autonomous_cars/Object_Detector_for_road/SSD_Detector_for_road_training/SSD_Trainer/detector.py:24:0\n",
      "  %1507 : Float(1:12996, 19:684, 19:36, 36:1, requires_grad=0, device=cpu) = aten::contiguous(%1505, %1506) # /media/rahul/a079ceb2-fd12-43c5-b844-a832f31d5a39/Projects/autonomous_cars/Object_Detector_for_road/SSD_Detector_for_road_training/SSD_Trainer/detector.py:24:0\n",
      "  %1508 : int = prim::Constant[value=0]() # /media/rahul/a079ceb2-fd12-43c5-b844-a832f31d5a39/Projects/autonomous_cars/Object_Detector_for_road/SSD_Detector_for_road_training/SSD_Trainer/detector.py:25:0\n",
      "  %1509 : int = aten::size(%input.1, %1508) # /media/rahul/a079ceb2-fd12-43c5-b844-a832f31d5a39/Projects/autonomous_cars/Object_Detector_for_road/SSD_Detector_for_road_training/SSD_Trainer/detector.py:25:0\n",
      "  %1510 : Long(device=cpu) = prim::NumToTensor(%1509)\n",
      "  %1511 : int = aten::Int(%1510)\n",
      "  %1512 : int = prim::Constant[value=-1]() # /media/rahul/a079ceb2-fd12-43c5-b844-a832f31d5a39/Projects/autonomous_cars/Object_Detector_for_road/SSD_Detector_for_road_training/SSD_Trainer/detector.py:25:0\n",
      "  %1513 : int = prim::Constant[value=4]() # /media/rahul/a079ceb2-fd12-43c5-b844-a832f31d5a39/Projects/autonomous_cars/Object_Detector_for_road/SSD_Detector_for_road_training/SSD_Trainer/detector.py:25:0\n",
      "  %1514 : int[] = prim::ListConstruct(%1511, %1512, %1513)\n",
      "  %1515 : Float(1:12996, 3249:4, 4:1, requires_grad=0, device=cpu) = aten::view(%1507, %1514) # /media/rahul/a079ceb2-fd12-43c5-b844-a832f31d5a39/Projects/autonomous_cars/Object_Detector_for_road/SSD_Detector_for_road_training/SSD_Trainer/detector.py:25:0\n",
      "  %1516 : int = prim::Constant[value=0]() # /media/rahul/a079ceb2-fd12-43c5-b844-a832f31d5a39/Projects/autonomous_cars/Object_Detector_for_road/SSD_Detector_for_road_training/SSD_Trainer/detector.py:27:0\n",
      "  %1517 : int = prim::Constant[value=2]() # /media/rahul/a079ceb2-fd12-43c5-b844-a832f31d5a39/Projects/autonomous_cars/Object_Detector_for_road/SSD_Detector_for_road_training/SSD_Trainer/detector.py:27:0\n",
      "  %1518 : int = prim::Constant[value=3]() # /media/rahul/a079ceb2-fd12-43c5-b844-a832f31d5a39/Projects/autonomous_cars/Object_Detector_for_road/SSD_Detector_for_road_training/SSD_Trainer/detector.py:27:0\n",
      "  %1519 : int = prim::Constant[value=1]() # /media/rahul/a079ceb2-fd12-43c5-b844-a832f31d5a39/Projects/autonomous_cars/Object_Detector_for_road/SSD_Detector_for_road_training/SSD_Trainer/detector.py:27:0\n",
      "  %1520 : int[] = prim::ListConstruct(%1516, %1517, %1518, %1519)\n",
      "  %1521 : Float(1:38988, 19:19, 19:1, 108:361, requires_grad=0, device=cpu) = aten::permute(%2999, %1520) # /media/rahul/a079ceb2-fd12-43c5-b844-a832f31d5a39/Projects/autonomous_cars/Object_Detector_for_road/SSD_Detector_for_road_training/SSD_Trainer/detector.py:27:0\n",
      "  %1522 : int = prim::Constant[value=0]() # /media/rahul/a079ceb2-fd12-43c5-b844-a832f31d5a39/Projects/autonomous_cars/Object_Detector_for_road/SSD_Detector_for_road_training/SSD_Trainer/detector.py:27:0\n",
      "  %1523 : Float(1:38988, 19:2052, 19:108, 108:1, requires_grad=0, device=cpu) = aten::contiguous(%1521, %1522) # /media/rahul/a079ceb2-fd12-43c5-b844-a832f31d5a39/Projects/autonomous_cars/Object_Detector_for_road/SSD_Detector_for_road_training/SSD_Trainer/detector.py:27:0\n",
      "  %1524 : int = prim::Constant[value=0]() # /media/rahul/a079ceb2-fd12-43c5-b844-a832f31d5a39/Projects/autonomous_cars/Object_Detector_for_road/SSD_Detector_for_road_training/SSD_Trainer/detector.py:28:0\n",
      "  %1525 : int = aten::size(%input.1, %1524) # /media/rahul/a079ceb2-fd12-43c5-b844-a832f31d5a39/Projects/autonomous_cars/Object_Detector_for_road/SSD_Detector_for_road_training/SSD_Trainer/detector.py:28:0\n",
      "  %1526 : Long(device=cpu) = prim::NumToTensor(%1525)\n",
      "  %1527 : int = aten::Int(%1526)\n",
      "  %1528 : int = prim::Constant[value=-1]() # /media/rahul/a079ceb2-fd12-43c5-b844-a832f31d5a39/Projects/autonomous_cars/Object_Detector_for_road/SSD_Detector_for_road_training/SSD_Trainer/detector.py:28:0\n",
      "  %1529 : int = prim::Constant[value=12]() # /media/rahul/a079ceb2-fd12-43c5-b844-a832f31d5a39/Projects/autonomous_cars/Object_Detector_for_road/SSD_Detector_for_road_training/SSD_Trainer/detector.py:28:0\n",
      "  %1530 : int[] = prim::ListConstruct(%1527, %1528, %1529)\n",
      "  %1531 : Float(1:38988, 3249:12, 12:1, requires_grad=0, device=cpu) = aten::view(%1523, %1530) # /media/rahul/a079ceb2-fd12-43c5-b844-a832f31d5a39/Projects/autonomous_cars/Object_Detector_for_road/SSD_Detector_for_road_training/SSD_Trainer/detector.py:28:0\n",
      "  %3000 : Tensor = prim::CallMethod[name=\"forward2\"](%2624, %2990)\n",
      "  %3001 : Tensor = prim::CallMethod[name=\"forward2\"](%2644, %2991)\n",
      "  %1730 : int = prim::Constant[value=0]() # /media/rahul/a079ceb2-fd12-43c5-b844-a832f31d5a39/Projects/autonomous_cars/Object_Detector_for_road/SSD_Detector_for_road_training/SSD_Trainer/detector.py:24:0\n",
      "  %1731 : int = prim::Constant[value=2]() # /media/rahul/a079ceb2-fd12-43c5-b844-a832f31d5a39/Projects/autonomous_cars/Object_Detector_for_road/SSD_Detector_for_road_training/SSD_Trainer/detector.py:24:0\n",
      "  %1732 : int = prim::Constant[value=3]() # /media/rahul/a079ceb2-fd12-43c5-b844-a832f31d5a39/Projects/autonomous_cars/Object_Detector_for_road/SSD_Detector_for_road_training/SSD_Trainer/detector.py:24:0\n",
      "  %1733 : int = prim::Constant[value=1]() # /media/rahul/a079ceb2-fd12-43c5-b844-a832f31d5a39/Projects/autonomous_cars/Object_Detector_for_road/SSD_Detector_for_road_training/SSD_Trainer/detector.py:24:0\n",
      "  %1734 : int[] = prim::ListConstruct(%1730, %1731, %1732, %1733)\n",
      "  %1735 : Float(1:3600, 10:10, 10:1, 36:100, requires_grad=0, device=cpu) = aten::permute(%3000, %1734) # /media/rahul/a079ceb2-fd12-43c5-b844-a832f31d5a39/Projects/autonomous_cars/Object_Detector_for_road/SSD_Detector_for_road_training/SSD_Trainer/detector.py:24:0\n",
      "  %1736 : int = prim::Constant[value=0]() # /media/rahul/a079ceb2-fd12-43c5-b844-a832f31d5a39/Projects/autonomous_cars/Object_Detector_for_road/SSD_Detector_for_road_training/SSD_Trainer/detector.py:24:0\n",
      "  %1737 : Float(1:3600, 10:360, 10:36, 36:1, requires_grad=0, device=cpu) = aten::contiguous(%1735, %1736) # /media/rahul/a079ceb2-fd12-43c5-b844-a832f31d5a39/Projects/autonomous_cars/Object_Detector_for_road/SSD_Detector_for_road_training/SSD_Trainer/detector.py:24:0\n",
      "  %1738 : int = prim::Constant[value=0]() # /media/rahul/a079ceb2-fd12-43c5-b844-a832f31d5a39/Projects/autonomous_cars/Object_Detector_for_road/SSD_Detector_for_road_training/SSD_Trainer/detector.py:25:0\n",
      "  %1739 : int = aten::size(%input.1, %1738) # /media/rahul/a079ceb2-fd12-43c5-b844-a832f31d5a39/Projects/autonomous_cars/Object_Detector_for_road/SSD_Detector_for_road_training/SSD_Trainer/detector.py:25:0\n",
      "  %1740 : Long(device=cpu) = prim::NumToTensor(%1739)\n",
      "  %1741 : int = aten::Int(%1740)\n",
      "  %1742 : int = prim::Constant[value=-1]() # /media/rahul/a079ceb2-fd12-43c5-b844-a832f31d5a39/Projects/autonomous_cars/Object_Detector_for_road/SSD_Detector_for_road_training/SSD_Trainer/detector.py:25:0\n",
      "  %1743 : int = prim::Constant[value=4]() # /media/rahul/a079ceb2-fd12-43c5-b844-a832f31d5a39/Projects/autonomous_cars/Object_Detector_for_road/SSD_Detector_for_road_training/SSD_Trainer/detector.py:25:0\n",
      "  %1744 : int[] = prim::ListConstruct(%1741, %1742, %1743)\n",
      "  %1745 : Float(1:3600, 900:4, 4:1, requires_grad=0, device=cpu) = aten::view(%1737, %1744) # /media/rahul/a079ceb2-fd12-43c5-b844-a832f31d5a39/Projects/autonomous_cars/Object_Detector_for_road/SSD_Detector_for_road_training/SSD_Trainer/detector.py:25:0\n",
      "  %1746 : int = prim::Constant[value=0]() # /media/rahul/a079ceb2-fd12-43c5-b844-a832f31d5a39/Projects/autonomous_cars/Object_Detector_for_road/SSD_Detector_for_road_training/SSD_Trainer/detector.py:27:0\n",
      "  %1747 : int = prim::Constant[value=2]() # /media/rahul/a079ceb2-fd12-43c5-b844-a832f31d5a39/Projects/autonomous_cars/Object_Detector_for_road/SSD_Detector_for_road_training/SSD_Trainer/detector.py:27:0\n",
      "  %1748 : int = prim::Constant[value=3]() # /media/rahul/a079ceb2-fd12-43c5-b844-a832f31d5a39/Projects/autonomous_cars/Object_Detector_for_road/SSD_Detector_for_road_training/SSD_Trainer/detector.py:27:0\n",
      "  %1749 : int = prim::Constant[value=1]() # /media/rahul/a079ceb2-fd12-43c5-b844-a832f31d5a39/Projects/autonomous_cars/Object_Detector_for_road/SSD_Detector_for_road_training/SSD_Trainer/detector.py:27:0\n",
      "  %1750 : int[] = prim::ListConstruct(%1746, %1747, %1748, %1749)\n",
      "  %1751 : Float(1:10800, 10:10, 10:1, 108:100, requires_grad=0, device=cpu) = aten::permute(%3001, %1750) # /media/rahul/a079ceb2-fd12-43c5-b844-a832f31d5a39/Projects/autonomous_cars/Object_Detector_for_road/SSD_Detector_for_road_training/SSD_Trainer/detector.py:27:0\n",
      "  %1752 : int = prim::Constant[value=0]() # /media/rahul/a079ceb2-fd12-43c5-b844-a832f31d5a39/Projects/autonomous_cars/Object_Detector_for_road/SSD_Detector_for_road_training/SSD_Trainer/detector.py:27:0\n",
      "  %1753 : Float(1:10800, 10:1080, 10:108, 108:1, requires_grad=0, device=cpu) = aten::contiguous(%1751, %1752) # /media/rahul/a079ceb2-fd12-43c5-b844-a832f31d5a39/Projects/autonomous_cars/Object_Detector_for_road/SSD_Detector_for_road_training/SSD_Trainer/detector.py:27:0\n",
      "  %1754 : int = prim::Constant[value=0]() # /media/rahul/a079ceb2-fd12-43c5-b844-a832f31d5a39/Projects/autonomous_cars/Object_Detector_for_road/SSD_Detector_for_road_training/SSD_Trainer/detector.py:28:0\n",
      "  %1755 : int = aten::size(%input.1, %1754) # /media/rahul/a079ceb2-fd12-43c5-b844-a832f31d5a39/Projects/autonomous_cars/Object_Detector_for_road/SSD_Detector_for_road_training/SSD_Trainer/detector.py:28:0\n",
      "  %1756 : Long(device=cpu) = prim::NumToTensor(%1755)\n",
      "  %1757 : int = aten::Int(%1756)\n",
      "  %1758 : int = prim::Constant[value=-1]() # /media/rahul/a079ceb2-fd12-43c5-b844-a832f31d5a39/Projects/autonomous_cars/Object_Detector_for_road/SSD_Detector_for_road_training/SSD_Trainer/detector.py:28:0\n",
      "  %1759 : int = prim::Constant[value=12]() # /media/rahul/a079ceb2-fd12-43c5-b844-a832f31d5a39/Projects/autonomous_cars/Object_Detector_for_road/SSD_Detector_for_road_training/SSD_Trainer/detector.py:28:0\n",
      "  %1760 : int[] = prim::ListConstruct(%1757, %1758, %1759)\n",
      "  %1761 : Float(1:10800, 900:12, 12:1, requires_grad=0, device=cpu) = aten::view(%1753, %1760) # /media/rahul/a079ceb2-fd12-43c5-b844-a832f31d5a39/Projects/autonomous_cars/Object_Detector_for_road/SSD_Detector_for_road_training/SSD_Trainer/detector.py:28:0\n",
      "  %3002 : Tensor = prim::CallMethod[name=\"forward3\"](%2624, %2992)\n",
      "  %3003 : Tensor = prim::CallMethod[name=\"forward3\"](%2644, %2993)\n",
      "  %1960 : int = prim::Constant[value=0]() # /media/rahul/a079ceb2-fd12-43c5-b844-a832f31d5a39/Projects/autonomous_cars/Object_Detector_for_road/SSD_Detector_for_road_training/SSD_Trainer/detector.py:24:0\n",
      "  %1961 : int = prim::Constant[value=2]() # /media/rahul/a079ceb2-fd12-43c5-b844-a832f31d5a39/Projects/autonomous_cars/Object_Detector_for_road/SSD_Detector_for_road_training/SSD_Trainer/detector.py:24:0\n",
      "  %1962 : int = prim::Constant[value=3]() # /media/rahul/a079ceb2-fd12-43c5-b844-a832f31d5a39/Projects/autonomous_cars/Object_Detector_for_road/SSD_Detector_for_road_training/SSD_Trainer/detector.py:24:0\n",
      "  %1963 : int = prim::Constant[value=1]() # /media/rahul/a079ceb2-fd12-43c5-b844-a832f31d5a39/Projects/autonomous_cars/Object_Detector_for_road/SSD_Detector_for_road_training/SSD_Trainer/detector.py:24:0\n",
      "  %1964 : int[] = prim::ListConstruct(%1960, %1961, %1962, %1963)\n",
      "  %1965 : Float(1:900, 5:5, 5:1, 36:25, requires_grad=0, device=cpu) = aten::permute(%3002, %1964) # /media/rahul/a079ceb2-fd12-43c5-b844-a832f31d5a39/Projects/autonomous_cars/Object_Detector_for_road/SSD_Detector_for_road_training/SSD_Trainer/detector.py:24:0\n",
      "  %1966 : int = prim::Constant[value=0]() # /media/rahul/a079ceb2-fd12-43c5-b844-a832f31d5a39/Projects/autonomous_cars/Object_Detector_for_road/SSD_Detector_for_road_training/SSD_Trainer/detector.py:24:0\n",
      "  %1967 : Float(1:900, 5:180, 5:36, 36:1, requires_grad=0, device=cpu) = aten::contiguous(%1965, %1966) # /media/rahul/a079ceb2-fd12-43c5-b844-a832f31d5a39/Projects/autonomous_cars/Object_Detector_for_road/SSD_Detector_for_road_training/SSD_Trainer/detector.py:24:0\n",
      "  %1968 : int = prim::Constant[value=0]() # /media/rahul/a079ceb2-fd12-43c5-b844-a832f31d5a39/Projects/autonomous_cars/Object_Detector_for_road/SSD_Detector_for_road_training/SSD_Trainer/detector.py:25:0\n",
      "  %1969 : int = aten::size(%input.1, %1968) # /media/rahul/a079ceb2-fd12-43c5-b844-a832f31d5a39/Projects/autonomous_cars/Object_Detector_for_road/SSD_Detector_for_road_training/SSD_Trainer/detector.py:25:0\n",
      "  %1970 : Long(device=cpu) = prim::NumToTensor(%1969)\n",
      "  %1971 : int = aten::Int(%1970)\n",
      "  %1972 : int = prim::Constant[value=-1]() # /media/rahul/a079ceb2-fd12-43c5-b844-a832f31d5a39/Projects/autonomous_cars/Object_Detector_for_road/SSD_Detector_for_road_training/SSD_Trainer/detector.py:25:0\n",
      "  %1973 : int = prim::Constant[value=4]() # /media/rahul/a079ceb2-fd12-43c5-b844-a832f31d5a39/Projects/autonomous_cars/Object_Detector_for_road/SSD_Detector_for_road_training/SSD_Trainer/detector.py:25:0\n",
      "  %1974 : int[] = prim::ListConstruct(%1971, %1972, %1973)\n",
      "  %1975 : Float(1:900, 225:4, 4:1, requires_grad=0, device=cpu) = aten::view(%1967, %1974) # /media/rahul/a079ceb2-fd12-43c5-b844-a832f31d5a39/Projects/autonomous_cars/Object_Detector_for_road/SSD_Detector_for_road_training/SSD_Trainer/detector.py:25:0\n",
      "  %1976 : int = prim::Constant[value=0]() # /media/rahul/a079ceb2-fd12-43c5-b844-a832f31d5a39/Projects/autonomous_cars/Object_Detector_for_road/SSD_Detector_for_road_training/SSD_Trainer/detector.py:27:0\n",
      "  %1977 : int = prim::Constant[value=2]() # /media/rahul/a079ceb2-fd12-43c5-b844-a832f31d5a39/Projects/autonomous_cars/Object_Detector_for_road/SSD_Detector_for_road_training/SSD_Trainer/detector.py:27:0\n",
      "  %1978 : int = prim::Constant[value=3]() # /media/rahul/a079ceb2-fd12-43c5-b844-a832f31d5a39/Projects/autonomous_cars/Object_Detector_for_road/SSD_Detector_for_road_training/SSD_Trainer/detector.py:27:0\n",
      "  %1979 : int = prim::Constant[value=1]() # /media/rahul/a079ceb2-fd12-43c5-b844-a832f31d5a39/Projects/autonomous_cars/Object_Detector_for_road/SSD_Detector_for_road_training/SSD_Trainer/detector.py:27:0\n",
      "  %1980 : int[] = prim::ListConstruct(%1976, %1977, %1978, %1979)\n",
      "  %1981 : Float(1:2700, 5:5, 5:1, 108:25, requires_grad=0, device=cpu) = aten::permute(%3003, %1980) # /media/rahul/a079ceb2-fd12-43c5-b844-a832f31d5a39/Projects/autonomous_cars/Object_Detector_for_road/SSD_Detector_for_road_training/SSD_Trainer/detector.py:27:0\n",
      "  %1982 : int = prim::Constant[value=0]() # /media/rahul/a079ceb2-fd12-43c5-b844-a832f31d5a39/Projects/autonomous_cars/Object_Detector_for_road/SSD_Detector_for_road_training/SSD_Trainer/detector.py:27:0\n",
      "  %1983 : Float(1:2700, 5:540, 5:108, 108:1, requires_grad=0, device=cpu) = aten::contiguous(%1981, %1982) # /media/rahul/a079ceb2-fd12-43c5-b844-a832f31d5a39/Projects/autonomous_cars/Object_Detector_for_road/SSD_Detector_for_road_training/SSD_Trainer/detector.py:27:0\n",
      "  %1984 : int = prim::Constant[value=0]() # /media/rahul/a079ceb2-fd12-43c5-b844-a832f31d5a39/Projects/autonomous_cars/Object_Detector_for_road/SSD_Detector_for_road_training/SSD_Trainer/detector.py:28:0\n",
      "  %1985 : int = aten::size(%input.1, %1984) # /media/rahul/a079ceb2-fd12-43c5-b844-a832f31d5a39/Projects/autonomous_cars/Object_Detector_for_road/SSD_Detector_for_road_training/SSD_Trainer/detector.py:28:0\n",
      "  %1986 : Long(device=cpu) = prim::NumToTensor(%1985)\n",
      "  %1987 : int = aten::Int(%1986)\n",
      "  %1988 : int = prim::Constant[value=-1]() # /media/rahul/a079ceb2-fd12-43c5-b844-a832f31d5a39/Projects/autonomous_cars/Object_Detector_for_road/SSD_Detector_for_road_training/SSD_Trainer/detector.py:28:0\n",
      "  %1989 : int = prim::Constant[value=12]() # /media/rahul/a079ceb2-fd12-43c5-b844-a832f31d5a39/Projects/autonomous_cars/Object_Detector_for_road/SSD_Detector_for_road_training/SSD_Trainer/detector.py:28:0\n",
      "  %1990 : int[] = prim::ListConstruct(%1987, %1988, %1989)\n",
      "  %1991 : Float(1:2700, 225:12, 12:1, requires_grad=0, device=cpu) = aten::view(%1983, %1990) # /media/rahul/a079ceb2-fd12-43c5-b844-a832f31d5a39/Projects/autonomous_cars/Object_Detector_for_road/SSD_Detector_for_road_training/SSD_Trainer/detector.py:28:0\n",
      "  %3004 : Tensor = prim::CallMethod[name=\"forward4\"](%2624, %2994)\n",
      "  %3005 : Tensor = prim::CallMethod[name=\"forward4\"](%2644, %2994)\n",
      "  %2190 : int = prim::Constant[value=0]() # /media/rahul/a079ceb2-fd12-43c5-b844-a832f31d5a39/Projects/autonomous_cars/Object_Detector_for_road/SSD_Detector_for_road_training/SSD_Trainer/detector.py:24:0\n",
      "  %2191 : int = prim::Constant[value=2]() # /media/rahul/a079ceb2-fd12-43c5-b844-a832f31d5a39/Projects/autonomous_cars/Object_Detector_for_road/SSD_Detector_for_road_training/SSD_Trainer/detector.py:24:0\n",
      "  %2192 : int = prim::Constant[value=3]() # /media/rahul/a079ceb2-fd12-43c5-b844-a832f31d5a39/Projects/autonomous_cars/Object_Detector_for_road/SSD_Detector_for_road_training/SSD_Trainer/detector.py:24:0\n",
      "  %2193 : int = prim::Constant[value=1]() # /media/rahul/a079ceb2-fd12-43c5-b844-a832f31d5a39/Projects/autonomous_cars/Object_Detector_for_road/SSD_Detector_for_road_training/SSD_Trainer/detector.py:24:0\n",
      "  %2194 : int[] = prim::ListConstruct(%2190, %2191, %2192, %2193)\n",
      "  %2195 : Float(1:324, 3:3, 3:1, 36:9, requires_grad=0, device=cpu) = aten::permute(%3004, %2194) # /media/rahul/a079ceb2-fd12-43c5-b844-a832f31d5a39/Projects/autonomous_cars/Object_Detector_for_road/SSD_Detector_for_road_training/SSD_Trainer/detector.py:24:0\n",
      "  %2196 : int = prim::Constant[value=0]() # /media/rahul/a079ceb2-fd12-43c5-b844-a832f31d5a39/Projects/autonomous_cars/Object_Detector_for_road/SSD_Detector_for_road_training/SSD_Trainer/detector.py:24:0\n",
      "  %2197 : Float(1:324, 3:108, 3:36, 36:1, requires_grad=0, device=cpu) = aten::contiguous(%2195, %2196) # /media/rahul/a079ceb2-fd12-43c5-b844-a832f31d5a39/Projects/autonomous_cars/Object_Detector_for_road/SSD_Detector_for_road_training/SSD_Trainer/detector.py:24:0\n",
      "  %2198 : int = prim::Constant[value=0]() # /media/rahul/a079ceb2-fd12-43c5-b844-a832f31d5a39/Projects/autonomous_cars/Object_Detector_for_road/SSD_Detector_for_road_training/SSD_Trainer/detector.py:25:0\n",
      "  %2199 : int = aten::size(%input.1, %2198) # /media/rahul/a079ceb2-fd12-43c5-b844-a832f31d5a39/Projects/autonomous_cars/Object_Detector_for_road/SSD_Detector_for_road_training/SSD_Trainer/detector.py:25:0\n",
      "  %2200 : Long(device=cpu) = prim::NumToTensor(%2199)\n",
      "  %2201 : int = aten::Int(%2200)\n",
      "  %2202 : int = prim::Constant[value=-1]() # /media/rahul/a079ceb2-fd12-43c5-b844-a832f31d5a39/Projects/autonomous_cars/Object_Detector_for_road/SSD_Detector_for_road_training/SSD_Trainer/detector.py:25:0\n",
      "  %2203 : int = prim::Constant[value=4]() # /media/rahul/a079ceb2-fd12-43c5-b844-a832f31d5a39/Projects/autonomous_cars/Object_Detector_for_road/SSD_Detector_for_road_training/SSD_Trainer/detector.py:25:0\n",
      "  %2204 : int[] = prim::ListConstruct(%2201, %2202, %2203)\n",
      "  %loc_pred : Float(1:324, 81:4, 4:1, requires_grad=0, device=cpu) = aten::view(%2197, %2204) # /media/rahul/a079ceb2-fd12-43c5-b844-a832f31d5a39/Projects/autonomous_cars/Object_Detector_for_road/SSD_Detector_for_road_training/SSD_Trainer/detector.py:25:0\n",
      "  %2206 : int = prim::Constant[value=0]() # /media/rahul/a079ceb2-fd12-43c5-b844-a832f31d5a39/Projects/autonomous_cars/Object_Detector_for_road/SSD_Detector_for_road_training/SSD_Trainer/detector.py:27:0\n",
      "  %2207 : int = prim::Constant[value=2]() # /media/rahul/a079ceb2-fd12-43c5-b844-a832f31d5a39/Projects/autonomous_cars/Object_Detector_for_road/SSD_Detector_for_road_training/SSD_Trainer/detector.py:27:0\n",
      "  %2208 : int = prim::Constant[value=3]() # /media/rahul/a079ceb2-fd12-43c5-b844-a832f31d5a39/Projects/autonomous_cars/Object_Detector_for_road/SSD_Detector_for_road_training/SSD_Trainer/detector.py:27:0\n",
      "  %2209 : int = prim::Constant[value=1]() # /media/rahul/a079ceb2-fd12-43c5-b844-a832f31d5a39/Projects/autonomous_cars/Object_Detector_for_road/SSD_Detector_for_road_training/SSD_Trainer/detector.py:27:0\n",
      "  %2210 : int[] = prim::ListConstruct(%2206, %2207, %2208, %2209)\n",
      "  %2211 : Float(1:972, 3:3, 3:1, 108:9, requires_grad=0, device=cpu) = aten::permute(%3005, %2210) # /media/rahul/a079ceb2-fd12-43c5-b844-a832f31d5a39/Projects/autonomous_cars/Object_Detector_for_road/SSD_Detector_for_road_training/SSD_Trainer/detector.py:27:0\n",
      "  %2212 : int = prim::Constant[value=0]() # /media/rahul/a079ceb2-fd12-43c5-b844-a832f31d5a39/Projects/autonomous_cars/Object_Detector_for_road/SSD_Detector_for_road_training/SSD_Trainer/detector.py:27:0\n",
      "  %2213 : Float(1:972, 3:324, 3:108, 108:1, requires_grad=0, device=cpu) = aten::contiguous(%2211, %2212) # /media/rahul/a079ceb2-fd12-43c5-b844-a832f31d5a39/Projects/autonomous_cars/Object_Detector_for_road/SSD_Detector_for_road_training/SSD_Trainer/detector.py:27:0\n",
      "  %2214 : int = prim::Constant[value=0]() # /media/rahul/a079ceb2-fd12-43c5-b844-a832f31d5a39/Projects/autonomous_cars/Object_Detector_for_road/SSD_Detector_for_road_training/SSD_Trainer/detector.py:28:0\n",
      "  %2215 : int = aten::size(%input.1, %2214) # /media/rahul/a079ceb2-fd12-43c5-b844-a832f31d5a39/Projects/autonomous_cars/Object_Detector_for_road/SSD_Detector_for_road_training/SSD_Trainer/detector.py:28:0\n",
      "  %2216 : Long(device=cpu) = prim::NumToTensor(%2215)\n",
      "  %2217 : int = aten::Int(%2216)\n",
      "  %2218 : int = prim::Constant[value=-1]() # /media/rahul/a079ceb2-fd12-43c5-b844-a832f31d5a39/Projects/autonomous_cars/Object_Detector_for_road/SSD_Detector_for_road_training/SSD_Trainer/detector.py:28:0\n",
      "  %2219 : int = prim::Constant[value=12]() # /media/rahul/a079ceb2-fd12-43c5-b844-a832f31d5a39/Projects/autonomous_cars/Object_Detector_for_road/SSD_Detector_for_road_training/SSD_Trainer/detector.py:28:0\n",
      "  %2220 : int[] = prim::ListConstruct(%2217, %2218, %2219)\n",
      "  %cls_pred : Float(1:972, 81:12, 12:1, requires_grad=0, device=cpu) = aten::view(%2213, %2220) # /media/rahul/a079ceb2-fd12-43c5-b844-a832f31d5a39/Projects/autonomous_cars/Object_Detector_for_road/SSD_Detector_for_road_training/SSD_Trainer/detector.py:28:0\n",
      "  %2222 : Tensor[] = prim::ListConstruct(%1285, %1515, %1745, %1975, %loc_pred)\n",
      "  %2223 : int = prim::Constant[value=1]() # /media/rahul/a079ceb2-fd12-43c5-b844-a832f31d5a39/Projects/autonomous_cars/Object_Detector_for_road/SSD_Detector_for_road_training/SSD_Trainer/detector.py:34:0\n",
      "  %2224 : Float(1:69804, 17451:4, 4:1, requires_grad=0, device=cpu) = aten::cat(%2222, %2223) # /media/rahul/a079ceb2-fd12-43c5-b844-a832f31d5a39/Projects/autonomous_cars/Object_Detector_for_road/SSD_Detector_for_road_training/SSD_Trainer/detector.py:34:0\n",
      "  %2225 : Tensor[] = prim::ListConstruct(%1301, %1531, %1761, %1991, %cls_pred)\n",
      "  %2226 : int = prim::Constant[value=1]() # /media/rahul/a079ceb2-fd12-43c5-b844-a832f31d5a39/Projects/autonomous_cars/Object_Detector_for_road/SSD_Detector_for_road_training/SSD_Trainer/detector.py:34:0\n",
      "  %2227 : Float(1:209412, 17451:12, 12:1, requires_grad=0, device=cpu) = aten::cat(%2225, %2226) # /media/rahul/a079ceb2-fd12-43c5-b844-a832f31d5a39/Projects/autonomous_cars/Object_Detector_for_road/SSD_Detector_for_road_training/SSD_Trainer/detector.py:34:0\n",
      "  %2228 : (Float(1:69804, 17451:4, 4:1, requires_grad=0, device=cpu), Float(1:209412, 17451:12, 12:1, requires_grad=0, device=cpu)) = prim::TupleConstruct(%2224, %2227)\n",
      "  return (%2228)\n",
      "\n"
     ]
    }
   ],
   "source": [
    "# Use torch script to get IR\n",
    "trace_nn = torch.jit.trace(model, x)\n",
    "\n",
    "print(trace_nn.graph) # To visualize the IR"
   ]
  },
  {
   "cell_type": "code",
   "execution_count": 15,
   "metadata": {},
   "outputs": [
    {
     "data": {
      "text/plain": [
       "(tensor([[[ 8.4098e-03, -5.2960e-02, -2.7917e-01, -4.9883e-02],\n",
       "          [-2.0193e-02, -5.8481e-02, -3.4454e-01,  1.1742e-01],\n",
       "          [-5.3269e-02, -1.4594e-01, -3.5848e-01,  4.1374e-01],\n",
       "          ...,\n",
       "          [-2.2324e-04,  1.2489e-01, -1.9495e-01, -6.1979e-02],\n",
       "          [ 1.4784e-02, -3.6648e-03, -3.6295e-01, -3.1864e-02],\n",
       "          [ 1.6755e-04, -7.0247e-02, -3.0883e-01,  5.9969e-02]]]),\n",
       " tensor([[[20.4293,  0.3109, -0.0582,  ..., -2.9092,  0.3104, -6.0114],\n",
       "          [19.0180,  0.6980,  0.6170,  ..., -4.4499, -3.2871, -4.9624],\n",
       "          [18.9035,  0.6408,  0.9066,  ..., -2.7602, -2.9714, -3.3365],\n",
       "          ...,\n",
       "          [18.7619,  7.1949,  6.4355,  ..., -4.2550, -1.1850, -5.6571],\n",
       "          [18.0575,  8.6073,  2.3610,  ..., -4.3963, -5.8178, -4.0444],\n",
       "          [17.3651,  3.3296,  1.8229,  ..., -1.8929, -2.3507, -2.3172]]]))"
      ]
     },
     "execution_count": 15,
     "metadata": {},
     "output_type": "execute_result"
    }
   ],
   "source": [
    "x = torch.randn(1,3,300,300, device=device)\n",
    "trace_nn(x)"
   ]
  },
  {
   "cell_type": "code",
   "execution_count": null,
   "metadata": {},
   "outputs": [],
   "source": []
  },
  {
   "cell_type": "code",
   "execution_count": 16,
   "metadata": {},
   "outputs": [
    {
     "name": "stdout",
     "output_type": "stream",
     "text": [
      "Output is  (tensor([[[ 8.4098e-03, -5.2960e-02, -2.7917e-01, -4.9883e-02],\n",
      "         [-2.0193e-02, -5.8481e-02, -3.4454e-01,  1.1742e-01],\n",
      "         [-5.3269e-02, -1.4594e-01, -3.5848e-01,  4.1374e-01],\n",
      "         ...,\n",
      "         [-2.2324e-04,  1.2489e-01, -1.9495e-01, -6.1979e-02],\n",
      "         [ 1.4784e-02, -3.6648e-03, -3.6295e-01, -3.1864e-02],\n",
      "         [ 1.6755e-04, -7.0247e-02, -3.0883e-01,  5.9969e-02]]]), tensor([[[20.4293,  0.3109, -0.0582,  ..., -2.9092,  0.3104, -6.0114],\n",
      "         [19.0180,  0.6980,  0.6170,  ..., -4.4499, -3.2871, -4.9624],\n",
      "         [18.9035,  0.6408,  0.9066,  ..., -2.7602, -2.9714, -3.3365],\n",
      "         ...,\n",
      "         [18.7619,  7.1949,  6.4355,  ..., -4.2550, -1.1850, -5.6571],\n",
      "         [18.0575,  8.6073,  2.3610,  ..., -4.3963, -5.8178, -4.0444],\n",
      "         [17.3651,  3.3296,  1.8229,  ..., -1.8929, -2.3507, -2.3172]]]))\n"
     ]
    }
   ],
   "source": [
    "# We can also save and load this scripted-model.\n",
    "torch.jit.save(trace_nn, 'tiny_model.pt')\n",
    "\n",
    "# Now we can load this model\n",
    "reloaded_tiny_model = torch.jit.load('tiny_model.pt')\n",
    "\n",
    "print(\"Output is \", reloaded_tiny_model(x))"
   ]
  },
  {
   "cell_type": "code",
   "execution_count": null,
   "metadata": {},
   "outputs": [],
   "source": []
  },
  {
   "cell_type": "markdown",
   "metadata": {},
   "source": [
    "##### The trace function has some problems related to the loops, thus it is not recommended , instead we use the script function by JIT"
   ]
  },
  {
   "cell_type": "code",
   "execution_count": 40,
   "metadata": {},
   "outputs": [
    {
     "data": {
      "text/plain": [
       "(tensor([[[ 0.0029, -0.0488, -0.3023, -0.0420],\n",
       "          [-0.0523, -0.0612, -0.3806,  0.0822],\n",
       "          [-0.0880, -0.1440, -0.3923,  0.3828],\n",
       "          ...,\n",
       "          [ 0.0174,  0.1108, -0.2049, -0.0773],\n",
       "          [ 0.0306, -0.0204, -0.3729, -0.0147],\n",
       "          [ 0.0100, -0.0903, -0.2930,  0.0934]]]),\n",
       " tensor([[[22.2652,  0.8254,  0.1599,  ..., -3.0745,  0.6601, -6.6966],\n",
       "          [21.2056,  1.0720,  0.7180,  ..., -4.7390, -3.4844, -5.4035],\n",
       "          [21.1097,  0.9526,  1.0791,  ..., -2.9896, -3.2018, -3.5883],\n",
       "          ...,\n",
       "          [18.8358,  8.4834,  6.0018,  ..., -4.3125, -0.9588, -5.8613],\n",
       "          [17.7656,  9.6248,  2.0490,  ..., -4.3750, -5.6874, -3.8808],\n",
       "          [17.2748,  4.2087,  1.5717,  ..., -1.8908, -2.6076, -2.3024]]]))"
      ]
     },
     "execution_count": 40,
     "metadata": {},
     "output_type": "execute_result"
    }
   ],
   "source": [
    "model(x)"
   ]
  },
  {
   "cell_type": "code",
   "execution_count": 8,
   "metadata": {},
   "outputs": [],
   "source": [
    "\n",
    "\n",
    "scripted_nn = torch.jit.script(model)\n",
    "\n",
    "\n"
   ]
  },
  {
   "cell_type": "code",
   "execution_count": 9,
   "metadata": {},
   "outputs": [
    {
     "ename": "RuntimeError",
     "evalue": "The following operation failed in the TorchScript interpreter.\nTraceback of TorchScript (most recent call last):\n  File \"/media/rahul/a079ceb2-fd12-43c5-b844-a832f31d5a39/Projects/autonomous_cars/Object_Detector_for_road/SSD_Detector_for_road_training/SSD_Trainer/detector.py\", line 18, in forward\n    def forward(self, x):\n        fms = self.fpn(x)\n              ~~~~~~~~ <--- HERE\n        loc_preds = []\n        cls_preds = []\n  File \"/media/rahul/a079ceb2-fd12-43c5-b844-a832f31d5a39/Projects/autonomous_cars/Object_Detector_for_road/SSD_Detector_for_road_training/SSD_Trainer/fpn.py\", line 92, in forward\n        output.append(self.toplayer2(self._upsample_add(output[-1], self.latlayer3(layer2_output))))\n        \n        return output[::-1]\n               ~~~~~~~~~~~~ <--- HERE\nRuntimeError: vector::_M_range_check: __n (which is 18446744073709551615) >= this->size() (which is 5)\n",
     "output_type": "error",
     "traceback": [
      "\u001b[0;31m---------------------------------------------------------------------------\u001b[0m",
      "\u001b[0;31mRuntimeError\u001b[0m                              Traceback (most recent call last)",
      "\u001b[0;32m<ipython-input-9-0000ada947ee>\u001b[0m in \u001b[0;36m<module>\u001b[0;34m\u001b[0m\n\u001b[1;32m      1\u001b[0m \u001b[0mx\u001b[0m \u001b[0;34m=\u001b[0m \u001b[0mtorch\u001b[0m\u001b[0;34m.\u001b[0m\u001b[0mrandn\u001b[0m\u001b[0;34m(\u001b[0m\u001b[0;36m1\u001b[0m\u001b[0;34m,\u001b[0m\u001b[0;36m3\u001b[0m\u001b[0;34m,\u001b[0m\u001b[0;36m300\u001b[0m\u001b[0;34m,\u001b[0m\u001b[0;36m300\u001b[0m\u001b[0;34m,\u001b[0m \u001b[0mdevice\u001b[0m\u001b[0;34m=\u001b[0m\u001b[0mdevice\u001b[0m\u001b[0;34m)\u001b[0m\u001b[0;34m\u001b[0m\u001b[0;34m\u001b[0m\u001b[0m\n\u001b[0;32m----> 2\u001b[0;31m \u001b[0mscripted_nn\u001b[0m\u001b[0;34m(\u001b[0m\u001b[0mx\u001b[0m\u001b[0;34m)\u001b[0m\u001b[0;34m\u001b[0m\u001b[0;34m\u001b[0m\u001b[0m\n\u001b[0m\u001b[1;32m      3\u001b[0m \u001b[0;31m# print(scripted_nn.graph_for(x))\u001b[0m\u001b[0;34m\u001b[0m\u001b[0;34m\u001b[0m\u001b[0;34m\u001b[0m\u001b[0m\n",
      "\u001b[0;32m~/.conda/envs/opcv/lib/python3.6/site-packages/torch/nn/modules/module.py\u001b[0m in \u001b[0;36m_call_impl\u001b[0;34m(self, *input, **kwargs)\u001b[0m\n\u001b[1;32m    725\u001b[0m             \u001b[0mresult\u001b[0m \u001b[0;34m=\u001b[0m \u001b[0mself\u001b[0m\u001b[0;34m.\u001b[0m\u001b[0m_slow_forward\u001b[0m\u001b[0;34m(\u001b[0m\u001b[0;34m*\u001b[0m\u001b[0minput\u001b[0m\u001b[0;34m,\u001b[0m \u001b[0;34m**\u001b[0m\u001b[0mkwargs\u001b[0m\u001b[0;34m)\u001b[0m\u001b[0;34m\u001b[0m\u001b[0;34m\u001b[0m\u001b[0m\n\u001b[1;32m    726\u001b[0m         \u001b[0;32melse\u001b[0m\u001b[0;34m:\u001b[0m\u001b[0;34m\u001b[0m\u001b[0;34m\u001b[0m\u001b[0m\n\u001b[0;32m--> 727\u001b[0;31m             \u001b[0mresult\u001b[0m \u001b[0;34m=\u001b[0m \u001b[0mself\u001b[0m\u001b[0;34m.\u001b[0m\u001b[0mforward\u001b[0m\u001b[0;34m(\u001b[0m\u001b[0;34m*\u001b[0m\u001b[0minput\u001b[0m\u001b[0;34m,\u001b[0m \u001b[0;34m**\u001b[0m\u001b[0mkwargs\u001b[0m\u001b[0;34m)\u001b[0m\u001b[0;34m\u001b[0m\u001b[0;34m\u001b[0m\u001b[0m\n\u001b[0m\u001b[1;32m    728\u001b[0m         for hook in itertools.chain(\n\u001b[1;32m    729\u001b[0m                 \u001b[0m_global_forward_hooks\u001b[0m\u001b[0;34m.\u001b[0m\u001b[0mvalues\u001b[0m\u001b[0;34m(\u001b[0m\u001b[0;34m)\u001b[0m\u001b[0;34m,\u001b[0m\u001b[0;34m\u001b[0m\u001b[0;34m\u001b[0m\u001b[0m\n",
      "\u001b[0;31mRuntimeError\u001b[0m: The following operation failed in the TorchScript interpreter.\nTraceback of TorchScript (most recent call last):\n  File \"/media/rahul/a079ceb2-fd12-43c5-b844-a832f31d5a39/Projects/autonomous_cars/Object_Detector_for_road/SSD_Detector_for_road_training/SSD_Trainer/detector.py\", line 18, in forward\n    def forward(self, x):\n        fms = self.fpn(x)\n              ~~~~~~~~ <--- HERE\n        loc_preds = []\n        cls_preds = []\n  File \"/media/rahul/a079ceb2-fd12-43c5-b844-a832f31d5a39/Projects/autonomous_cars/Object_Detector_for_road/SSD_Detector_for_road_training/SSD_Trainer/fpn.py\", line 92, in forward\n        output.append(self.toplayer2(self._upsample_add(output[-1], self.latlayer3(layer2_output))))\n        \n        return output[::-1]\n               ~~~~~~~~~~~~ <--- HERE\nRuntimeError: vector::_M_range_check: __n (which is 18446744073709551615) >= this->size() (which is 5)\n"
     ]
    }
   ],
   "source": [
    "x = torch.randn(1,3,300,300, device=device)\n",
    "scripted_nn(x)\n",
    "# print(scripted_nn.graph_for(x))"
   ]
  },
  {
   "cell_type": "code",
   "execution_count": null,
   "metadata": {},
   "outputs": [],
   "source": []
  },
  {
   "cell_type": "code",
   "execution_count": null,
   "metadata": {},
   "outputs": [],
   "source": []
  },
  {
   "cell_type": "code",
   "execution_count": null,
   "metadata": {},
   "outputs": [],
   "source": [
    "print(\"Output is:\\n \", scripted_nn(x))"
   ]
  },
  {
   "cell_type": "code",
   "execution_count": null,
   "metadata": {},
   "outputs": [],
   "source": []
  },
  {
   "cell_type": "code",
   "execution_count": 44,
   "metadata": {},
   "outputs": [],
   "source": [
    "# create a tiny feed-forward layer and set its paramters to be non-trainable \n",
    "class Network(nn.Module):\n",
    "    def __init__(self):\n",
    "        super(Network, self).__init__()\n",
    "        self.layer1 = nn.Linear(in_features=4, out_features=2)\n",
    "        \n",
    "    def forward(self,x):\n",
    "        x = self.layer1(x)\n",
    "        return x\n",
    "\n",
    "\n",
    "# transform model to device\n",
    "small_net = Network().to(device)\n",
    "\n",
    "# freeze the model\n",
    "for parm in small_net.parameters():\n",
    "    parm.requires_grad=False\n",
    "    \n",
    "x = torch.ones(1, 4).to(device)"
   ]
  },
  {
   "cell_type": "code",
   "execution_count": 45,
   "metadata": {},
   "outputs": [
    {
     "name": "stdout",
     "output_type": "stream",
     "text": [
      "graph(%self : __torch__.___torch_mangle_235.Network,\n",
      "      %x.1 : Tensor):\n",
      "  %3 : int = prim::Constant[value=2]() # /home/rahul/.conda/envs/opcv/lib/python3.6/site-packages/torch/nn/functional.py:1688:22\n",
      "  %2 : int = prim::Constant[value=1]()\n",
      "  %4 : __torch__.torch.nn.modules.linear.___torch_mangle_234.Linear = prim::GetAttr[name=\"layer1\"](%self)\n",
      "  %5 : Tensor = prim::GetAttr[name=\"weight\"](%4)\n",
      "  %6 : Tensor = prim::GetAttr[name=\"bias\"](%4)\n",
      "  %8 : int = aten::dim(%x.1) # /home/rahul/.conda/envs/opcv/lib/python3.6/site-packages/torch/nn/functional.py:1688:7\n",
      "  %9 : bool = aten::eq(%8, %3) # /home/rahul/.conda/envs/opcv/lib/python3.6/site-packages/torch/nn/functional.py:1688:7\n",
      "  %x.3 : Tensor = prim::If(%9) # /home/rahul/.conda/envs/opcv/lib/python3.6/site-packages/torch/nn/functional.py:1688:4\n",
      "    block0():\n",
      "      %12 : Tensor = aten::t(%5) # /home/rahul/.conda/envs/opcv/lib/python3.6/site-packages/torch/nn/functional.py:1690:39\n",
      "      %15 : Tensor = aten::mm(%x.1, %12) # <string>:3:24\n",
      "      %18 : Tensor = aten::add(%6, %15, %2) # <string>:3:17\n",
      "      -> (%18)\n",
      "    block1():\n",
      "      %21 : Tensor = aten::t(%5) # /home/rahul/.conda/envs/opcv/lib/python3.6/site-packages/torch/nn/functional.py:1692:30\n",
      "      %output.1 : Tensor = aten::matmul(%x.1, %21) # /home/rahul/.conda/envs/opcv/lib/python3.6/site-packages/torch/nn/functional.py:1692:17\n",
      "      %output.3 : Tensor = aten::add_(%output.1, %6, %2) # /home/rahul/.conda/envs/opcv/lib/python3.6/site-packages/torch/nn/functional.py:1694:12\n",
      "      -> (%output.3)\n",
      "  return (%x.3)\n",
      "\n",
      "Output is:\n",
      "  tensor([[-0.9618,  0.6599]])\n"
     ]
    }
   ],
   "source": [
    "scripted_nn = torch.jit.script(small_net)\n",
    "scripted_nn(x)\n",
    "print(scripted_nn.graph_for(x))\n",
    "\n",
    "print(\"Output is:\\n \", scripted_nn(x))"
   ]
  },
  {
   "cell_type": "code",
   "execution_count": 46,
   "metadata": {},
   "outputs": [
    {
     "data": {
      "text/plain": [
       "torch.Size([1, 4])"
      ]
     },
     "execution_count": 46,
     "metadata": {},
     "output_type": "execute_result"
    }
   ],
   "source": [
    "x.shape"
   ]
  },
  {
   "cell_type": "code",
   "execution_count": null,
   "metadata": {},
   "outputs": [],
   "source": []
  }
 ],
 "metadata": {
  "kernelspec": {
   "display_name": "Python 3",
   "language": "python",
   "name": "python3"
  },
  "language_info": {
   "codemirror_mode": {
    "name": "ipython",
    "version": 3
   },
   "file_extension": ".py",
   "mimetype": "text/x-python",
   "name": "python",
   "nbconvert_exporter": "python",
   "pygments_lexer": "ipython3",
   "version": "3.6.8"
  }
 },
 "nbformat": 4,
 "nbformat_minor": 2
}
